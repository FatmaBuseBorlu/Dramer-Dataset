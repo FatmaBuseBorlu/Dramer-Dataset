{
  "cells": [
    {
      "cell_type": "markdown",
      "metadata": {
        "id": "view-in-github",
        "colab_type": "text"
      },
      "source": [
        "<a href=\"https://colab.research.google.com/github/FatmaBuseBorlu/Dramer-Dataset-CNN/blob/main/cnn_kodu2.ipynb\" target=\"_parent\"><img src=\"https://colab.research.google.com/assets/colab-badge.svg\" alt=\"Open In Colab\"/></a>"
      ]
    },
    {
      "cell_type": "code",
      "execution_count": 93,
      "metadata": {
        "id": "uzUS9BlKGkNV"
      },
      "outputs": [],
      "source": [
        "import numpy as np\n",
        "import torch\n",
        "import torch.nn as nn\n",
        "import torch.optim as optim\n",
        "import torch.nn.functional as F\n",
        "from torch.utils.data import DataLoader, random_split, WeightedRandomSampler\n",
        "from torcheeg.datasets import DREAMERDataset\n",
        "from torcheeg import transforms\n",
        "from sklearn.metrics import accuracy_score, confusion_matrix, classification_report\n",
        "import matplotlib.pyplot as plt\n"
      ]
    },
    {
      "cell_type": "code",
      "execution_count": 94,
      "metadata": {
        "colab": {
          "base_uri": "https://localhost:8080/"
        },
        "id": "5MDu2zf6Grqm",
        "outputId": "ccba32b9-50db-4ec1-9966-7ec1bc6cdec5"
      },
      "outputs": [
        {
          "output_type": "stream",
          "name": "stdout",
          "text": [
            "Path to dataset files: /root/.cache/kagglehub/datasets/phhasian0710/dreamer/versions/1\n"
          ]
        }
      ],
      "source": [
        "# Kaggle'dan veri setini indirin\n",
        "path = kagglehub.dataset_download(\"phhasian0710/dreamer\")\n",
        "print(\"Path to dataset files:\", path)"
      ]
    },
    {
      "cell_type": "code",
      "execution_count": 95,
      "metadata": {
        "colab": {
          "base_uri": "https://localhost:8080/"
        },
        "id": "Q8kr_9ZKHCim",
        "outputId": "e4ff480f-eab7-4ed0-dae3-b6f5ab33a16a"
      },
      "outputs": [
        {
          "output_type": "stream",
          "name": "stderr",
          "text": [
            "[2024-12-18 22:42:26] INFO (torcheeg/MainThread) 🔍 | Detected cached processing results, reading cache from ./dreamer_cnn_data.\n",
            "INFO:torcheeg:🔍 | Detected cached processing results, reading cache from ./dreamer_cnn_data.\n"
          ]
        }
      ],
      "source": [
        "# Custom Veri Artırma: Flip Fonksiyonu\n",
        "import random\n",
        "class CustomRandomFlip:\n",
        "    def __init__(self, axis):\n",
        "        self.axis = axis\n",
        "\n",
        "    def __call__(self, x):\n",
        "        if random.random() > 0.5:\n",
        "            x = torch.flip(x, dims=(self.axis,))\n",
        "        return x\n",
        "\n",
        "# DREAMER Veri Setini Yükleme\n",
        "dataset = DREAMERDataset(\n",
        "    io_path='./dreamer_cnn_data',\n",
        "    mat_path='DREAMER.mat',\n",
        "    offline_transform=transforms.Compose([\n",
        "        transforms.BaselineRemoval(),\n",
        "        transforms.MeanStdNormalize(),\n",
        "        transforms.To2d(),\n",
        "        transforms.RandomNoise(std=0.01),\n",
        "        CustomRandomFlip(axis=2)\n",
        "    ]),\n",
        "    online_transform=transforms.ToTensor(),\n",
        "    label_transform=transforms.Compose([\n",
        "        transforms.Select('valence'),\n",
        "        transforms.Binary(3.0)\n",
        "    ]),\n",
        "    chunk_size=128,\n",
        "    baseline_chunk_size=128,\n",
        "    num_baseline=61,\n",
        "    num_worker=4\n",
        ")"
      ]
    },
    {
      "cell_type": "code",
      "execution_count": 96,
      "metadata": {
        "id": "ZM8j3ZghHD_N"
      },
      "outputs": [],
      "source": [
        "# Veri setini eğitim ve test olarak ayırın\n",
        "data_size = len(dataset)\n",
        "train_size = int(0.8 * data_size)\n",
        "test_size = data_size - train_size\n",
        "train_dataset, test_dataset = random_split(dataset, [train_size, test_size])"
      ]
    },
    {
      "cell_type": "code",
      "source": [
        "# Veri Yükleyicileri\n",
        "train_loader = DataLoader(train_dataset, batch_size=32, shuffle=True)\n",
        "test_loader = DataLoader(test_dataset, batch_size=32, shuffle=False)"
      ],
      "metadata": {
        "id": "waW7svcm3I22"
      },
      "execution_count": 97,
      "outputs": []
    },
    {
      "cell_type": "code",
      "execution_count": 98,
      "metadata": {
        "id": "qyyUAcNrHH0m"
      },
      "outputs": [],
      "source": [
        "class EEG_CNN_Model(nn.Module):\n",
        "    def __init__(self):\n",
        "        super(EEG_CNN_Model, self).__init__()\n",
        "        self.conv1 = nn.Conv2d(1, 32, kernel_size=3, padding=1)\n",
        "        self.bn1 = nn.BatchNorm2d(32)\n",
        "        self.pool = nn.MaxPool2d(2, 2)\n",
        "\n",
        "        self.conv2 = nn.Conv2d(32, 64, kernel_size=3, padding=1)\n",
        "        self.bn2 = nn.BatchNorm2d(64)\n",
        "\n",
        "        self.conv3 = nn.Conv2d(64, 128, kernel_size=3, padding=1)\n",
        "        self.bn3 = nn.BatchNorm2d(128)\n",
        "\n",
        "        self.dropout = nn.Dropout(0.5)\n",
        "\n",
        "        # Fully connected giriş boyutunu hesapla\n",
        "        self.fc1 = nn.Linear(128 * 1 * 16, 128)\n",
        "        self.fc2 = nn.Linear(128, 2)\n",
        "\n",
        "    def forward(self, x):\n",
        "        x = self.pool(F.relu(self.bn1(self.conv1(x))))\n",
        "        x = self.pool(F.relu(self.bn2(self.conv2(x))))\n",
        "        x = self.pool(F.relu(self.bn3(self.conv3(x))))\n",
        "        x = x.view(x.size(0), -1)  # Flatten\n",
        "        x = F.relu(self.fc1(x))\n",
        "        x = self.dropout(x)\n",
        "        x = self.fc2(x)\n",
        "        return x\n"
      ]
    },
    {
      "cell_type": "code",
      "execution_count": 99,
      "metadata": {
        "id": "8TpmLRkKHKOK"
      },
      "outputs": [],
      "source": [
        "# Modeli, Kayıp Fonksiyonu ve Optimizasyon Tanımı\n",
        "device = torch.device(\"cuda\" if torch.cuda.is_available() else \"cpu\")\n",
        "model = EEG_CNN_Model().to(device)\n",
        "criterion = nn.CrossEntropyLoss()\n",
        "optimizer = optim.AdamW(model.parameters(), lr=0.001, weight_decay=1e-5)\n",
        "scheduler = torch.optim.lr_scheduler.CosineAnnealingLR(optimizer, T_max=10)\n",
        "\n",
        "# Eğitim Fonksiyonu\n",
        "def train_one_epoch():\n",
        "    model.train()\n",
        "    running_loss = 0.0\n",
        "    for inputs, labels in train_loader:\n",
        "        inputs, labels = inputs.float().to(device), labels.long().to(device)\n",
        "        inputs = inputs.unsqueeze(1) if inputs.dim() == 3 else inputs\n",
        "        optimizer.zero_grad()\n",
        "        outputs = model(inputs)\n",
        "        loss = criterion(outputs, labels)\n",
        "        loss.backward()\n",
        "        optimizer.step()\n",
        "        running_loss += loss.item()\n",
        "    return running_loss / len(train_loader)\n",
        "\n",
        "# Test Fonksiyonu\n",
        "def test_model():\n",
        "    model.eval()\n",
        "    running_loss, all_preds, all_labels = 0.0, [], []\n",
        "    with torch.no_grad():\n",
        "        for inputs, labels in test_loader:\n",
        "            inputs, labels = inputs.float().to(device), labels.long().to(device)\n",
        "            inputs = inputs.unsqueeze(1) if inputs.dim() == 3 else inputs\n",
        "            outputs = model(inputs)\n",
        "            loss = criterion(outputs, labels)\n",
        "            running_loss += loss.item()\n",
        "            _, preds = torch.max(outputs, 1)\n",
        "            all_preds.extend(preds.cpu().numpy())\n",
        "            all_labels.extend(labels.cpu().numpy())\n",
        "    avg_loss = running_loss / len(test_loader)\n",
        "    accuracy = accuracy_score(all_labels, all_preds)\n",
        "    return avg_loss, accuracy, all_labels, all_preds"
      ]
    },
    {
      "cell_type": "code",
      "source": [
        "# Model Eğitim Döngüsü\n",
        "epochs, patience = 10, 3\n",
        "best_loss, counter = float('inf'), 0\n",
        "train_losses, test_losses, test_accs = [], [], []\n",
        "\n",
        "for epoch in range(epochs):\n",
        "    train_loss = train_one_epoch()\n",
        "    test_loss, test_acc, _, _ = test_model()\n",
        "    scheduler.step()\n",
        "\n",
        "    train_losses.append(train_loss)\n",
        "    test_losses.append(test_loss)\n",
        "    test_accs.append(test_acc)\n",
        "\n",
        "    print(f\"Epoch {epoch+1}: Train Loss: {train_loss:.4f}, Test Loss: {test_loss:.4f}, Test Acc: {test_acc:.4f}\")\n",
        "    if test_loss < best_loss:\n",
        "        best_loss, counter = test_loss, 0\n",
        "        print(\"En iyi model kaydedildi!\")\n",
        "    else:\n",
        "        counter += 1\n",
        "    if counter >= patience:\n",
        "        print(\"Early stopping tetiklendi!\")\n",
        "        break"
      ],
      "metadata": {
        "colab": {
          "base_uri": "https://localhost:8080/"
        },
        "id": "6R6axfKb3SvH",
        "outputId": "7895b2b7-dd1a-4ba4-bcfb-d8676da988d6"
      },
      "execution_count": 100,
      "outputs": [
        {
          "output_type": "stream",
          "name": "stdout",
          "text": [
            "Epoch 1: Train Loss: 0.6305, Test Loss: 0.5793, Test Acc: 0.6861\n",
            "En iyi model kaydedildi!\n",
            "Epoch 2: Train Loss: 0.5640, Test Loss: 0.5360, Test Acc: 0.7238\n",
            "En iyi model kaydedildi!\n",
            "Epoch 3: Train Loss: 0.5183, Test Loss: 0.5005, Test Acc: 0.7221\n",
            "En iyi model kaydedildi!\n",
            "Epoch 4: Train Loss: 0.4802, Test Loss: 0.4727, Test Acc: 0.7512\n",
            "En iyi model kaydedildi!\n",
            "Epoch 5: Train Loss: 0.4438, Test Loss: 0.4364, Test Acc: 0.7827\n",
            "En iyi model kaydedildi!\n",
            "Epoch 6: Train Loss: 0.4092, Test Loss: 0.4116, Test Acc: 0.7960\n",
            "En iyi model kaydedildi!\n",
            "Epoch 7: Train Loss: 0.3755, Test Loss: 0.3960, Test Acc: 0.8105\n",
            "En iyi model kaydedildi!\n",
            "Epoch 8: Train Loss: 0.3450, Test Loss: 0.3863, Test Acc: 0.8180\n",
            "En iyi model kaydedildi!\n",
            "Epoch 9: Train Loss: 0.3212, Test Loss: 0.3816, Test Acc: 0.8220\n",
            "En iyi model kaydedildi!\n",
            "Epoch 10: Train Loss: 0.3053, Test Loss: 0.3817, Test Acc: 0.8238\n"
          ]
        }
      ]
    },
    {
      "cell_type": "code",
      "execution_count": 101,
      "metadata": {
        "id": "cxr0zaFrHPbg",
        "colab": {
          "base_uri": "https://localhost:8080/",
          "height": 1000
        },
        "outputId": "162da379-b7e7-4a48-ba9c-c788dd2c0997"
      },
      "outputs": [
        {
          "output_type": "stream",
          "name": "stdout",
          "text": [
            "Final Test Accuracy: 0.8238\n",
            "Confusion Matrix:\n",
            " [[5032 1722]\n",
            " [1300 9095]]\n",
            "Classification Report:\n",
            "               precision    recall  f1-score   support\n",
            "\n",
            "           0       0.79      0.75      0.77      6754\n",
            "           1       0.84      0.87      0.86     10395\n",
            "\n",
            "    accuracy                           0.82     17149\n",
            "   macro avg       0.82      0.81      0.81     17149\n",
            "weighted avg       0.82      0.82      0.82     17149\n",
            "\n"
          ]
        },
        {
          "output_type": "display_data",
          "data": {
            "text/plain": [
              "<Figure size 1200x400 with 1 Axes>"
            ],
            "image/png": "[encoded data removed]"
          },
          "metadata": {}
        },
        {
          "output_type": "display_data",
          "data": {
            "text/plain": [
              "<Figure size 600x600 with 2 Axes>"
            ],
            "image/png": "[encoded data removed]"
          },
          "metadata": {}
        }
      ],
      "source": [
        "# Sonuçları tekrar test edip raporla\n",
        "test_loss, test_acc, all_labels, all_preds = test_model()\n",
        "print(f\"Final Test Accuracy: {test_acc:.4f}\")\n",
        "cm = confusion_matrix(all_labels, all_preds)\n",
        "print(\"Confusion Matrix:\\n\", cm)\n",
        "print(\"Classification Report:\\n\", classification_report(all_labels, all_preds))\n",
        "\n",
        "def plot_results(labels, preds, train_losses, test_losses):\n",
        "    # Basitleştirilmiş grafik fonksiyonu\n",
        "    plt.figure(figsize=(12, 4))\n",
        "    plt.plot(train_losses, label='Eğitim Kaybı')\n",
        "    plt.plot(test_losses, label='Test Kaybı')\n",
        "    plt.title('Eğitim ve Test Kaybı')\n",
        "    plt.xlabel('Epoch')\n",
        "    plt.ylabel('Kayıp')\n",
        "    plt.legend()\n",
        "    plt.show()\n",
        "\n",
        "    plt.figure(figsize=(6, 6))\n",
        "    cm = confusion_matrix(labels, preds)\n",
        "    plt.imshow(cm, cmap='Blues', interpolation='nearest')\n",
        "    plt.title('Confusion Matrix')\n",
        "    plt.colorbar()\n",
        "    plt.xticks([0, 1], ['Class 0', 'Class 1'])\n",
        "    plt.yticks([0, 1], ['Class 0', 'Class 1'])\n",
        "    plt.xlabel('Predicted')\n",
        "    plt.ylabel('True')\n",
        "    plt.show()\n",
        "\n",
        "plot_results(all_labels, all_preds, train_losses, test_losses)"
      ]
    },
    {
      "cell_type": "code",
      "execution_count": 102,
      "metadata": {
        "id": "AobbrdHHhPM7",
        "colab": {
          "base_uri": "https://localhost:8080/"
        },
        "outputId": "5d76cf7b-7ddc-423f-baed-f5275857cea0"
      },
      "outputs": [
        {
          "output_type": "stream",
          "name": "stdout",
          "text": [
            "Best Loss: 0.3816, Current Test Loss: 0.3817\n"
          ]
        }
      ],
      "source": [
        "print(f\"Best Loss: {best_loss:.4f}, Current Test Loss: {test_loss:.4f}\")"
      ]
    },
    {
      "cell_type": "code",
      "execution_count": 103,
      "metadata": {
        "id": "p6PpwNUxSsH-",
        "colab": {
          "base_uri": "https://localhost:8080/"
        },
        "outputId": "2d760dd7-bc8e-4620-dbad-a04a4054af70"
      },
      "outputs": [
        {
          "output_type": "stream",
          "name": "stdout",
          "text": [
            "Toplam veri sayısı: 68595\n",
            "Toplam batch sayısı (train): 2144\n"
          ]
        }
      ],
      "source": [
        "print(f\"Toplam veri sayısı: {len(train_loader.dataset)}\")\n",
        "print(f\"Toplam batch sayısı (train): {len(train_loader)}\")"
      ]
    }
  ],
  "metadata": {
    "accelerator": "GPU",
    "colab": {
      "gpuType": "T4",
      "machine_shape": "hm",
      "provenance": [],
      "include_colab_link": true
    },
    "kernelspec": {
      "display_name": "Python 3",
      "name": "python3"
    },
    "language_info": {
      "name": "python"
    }
  },
  "nbformat": 4,
  "nbformat_minor": 0
}