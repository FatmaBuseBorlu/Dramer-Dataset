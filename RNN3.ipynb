{
  "nbformat": 4,
  "nbformat_minor": 0,
  "metadata": {
    "colab": {
      "provenance": [],
      "mount_file_id": "1i6MceHy71AhApmJ7LDNpB-HZd9kzH1_0",
      "authorship_tag": "ABX9TyOlk8kskofqdMUKllkMZkJM",
      "include_colab_link": true
    },
    "kernelspec": {
      "name": "python3",
      "display_name": "Python 3"
    },
    "language_info": {
      "name": "python"
    }
  },
  "cells": [
    {
      "cell_type": "markdown",
      "metadata": {
        "id": "view-in-github",
        "colab_type": "text"
      },
      "source": [
        "<a href=\"https://colab.research.google.com/github/FatmaBuseBorlu/Dramer-Dataset/blob/leaf/RNN3.ipynb\" target=\"_parent\"><img src=\"https://colab.research.google.com/assets/colab-badge.svg\" alt=\"Open In Colab\"/></a>"
      ]
    },
    {
      "cell_type": "code",
      "execution_count": null,
      "metadata": {
        "id": "qgKiHl2TDkF-"
      },
      "outputs": [],
      "source": [
        "import numpy as np\n",
        "import scipy.io as sio\n",
        "from sklearn.preprocessing import StandardScaler, LabelEncoder\n",
        "from sklearn.model_selection import train_test_split\n",
        "import tensorflow as tf\n",
        "from tensorflow.keras.models import Sequential\n",
        "from tensorflow.keras.layers import LSTM, Dense, Dropout, BatchNormalization, GaussianNoise, Input\n",
        "from tensorflow.keras.regularizers import l2\n",
        "from tensorflow.keras.callbacks import EarlyStopping, ReduceLROnPlateau, LearningRateScheduler\n",
        "import matplotlib.pyplot as plt\n",
        "from imblearn.over_sampling import RandomOverSampler  # For balancing classes"
      ]
    },
    {
      "cell_type": "code",
      "source": [
        "def load_dreamer_data(file_path):\n",
        "    data = sio.loadmat(file_path)\n",
        "    eeg_data = []\n",
        "    labels = []\n",
        "    for participant in range(23):\n",
        "        for video in range(18):\n",
        "            stimuli = data['DREAMER'][0, 0]['Data'][0, participant]['EEG'][0, 0]['stimuli'][0, 0][video, 0]\n",
        "            if stimuli.size == 0:\n",
        "                continue\n",
        "            if stimuli.shape[0] != 14:\n",
        "                stimuli = stimuli.T\n",
        "            eeg_data.append(stimuli)\n",
        "\n",
        "            # Debug: Valence Score Kontrol\n",
        "            try:\n",
        "                valence_score = data['DREAMER'][0, 0]['Data'][0, participant]['ScoreValence'][0, 0][video, 0]\n",
        "                labels.append(valence_score)\n",
        "            except KeyError:\n",
        "                print(f\"ScoreValence alanı bulunamadı: Participant {participant}, Video {video}\")\n",
        "                continue\n",
        "    return eeg_data, np.array(labels)\n"
      ],
      "metadata": {
        "id": "k4ZC3fAzGCXz"
      },
      "execution_count": null,
      "outputs": []
    },
    {
      "cell_type": "code",
      "source": [
        "# Veri Yapısını İnceleme\n",
        "data = sio.loadmat(file_path)\n",
        "print(\"Anahtarlar:\", data.keys())\n",
        "dreamer_data = data['DREAMER']\n",
        "print(\"DREAMER Verisinin Tipi:\", type(dreamer_data))\n",
        "print(\"DREAMER Veri Yapısı:\", dreamer_data.dtype)\n"
      ],
      "metadata": {
        "colab": {
          "base_uri": "https://localhost:8080/"
        },
        "id": "_6N8aLvxvjau",
        "outputId": "bf067aef-0119-4b80-e436-4bf9c58de995"
      },
      "execution_count": null,
      "outputs": [
        {
          "output_type": "stream",
          "name": "stdout",
          "text": [
            "Anahtarlar: dict_keys(['__header__', '__version__', '__globals__', 'DREAMER'])\n",
            "DREAMER Verisinin Tipi: <class 'numpy.ndarray'>\n",
            "DREAMER Veri Yapısı: [('Data', 'O'), ('EEG_SamplingRate', 'O'), ('ECG_SamplingRate', 'O'), ('EEG_Electrodes', 'O'), ('noOfSubjects', 'O'), ('noOfVideoSequences', 'O'), ('Disclaimer', 'O'), ('Provider', 'O'), ('Version', 'O'), ('Acknowledgement', 'O')]\n"
          ]
        }
      ]
    },
    {
      "cell_type": "code",
      "source": [
        "print(\"Örnek valence scores:\", labels[:10])\n",
        "print(\"Valence score min:\", np.min(labels))\n",
        "print(\"Valence score max:\", np.max(labels))"
      ],
      "metadata": {
        "colab": {
          "base_uri": "https://localhost:8080/"
        },
        "id": "Qhric3xmu96M",
        "outputId": "fcb599ca-5ef0-4236-c66c-d95021c73212"
      },
      "execution_count": null,
      "outputs": [
        {
          "output_type": "stream",
          "name": "stdout",
          "text": [
            "Örnek valence scores: [0 0 0 0 0 0 0 0 0 0]\n",
            "Valence score min: 0\n",
            "Valence score max: 0\n"
          ]
        }
      ]
    },
    {
      "cell_type": "code",
      "source": [
        "# --- EEG verilerini ön işleme ---\n",
        "def preprocess_eeg_data(eeg_data, max_length=1000):\n",
        "    padded_eeg_data = []\n",
        "    for sample in eeg_data:\n",
        "        if sample.shape[1] < max_length:\n",
        "            padding_shape = ((0, 0), (0, max_length - sample.shape[1]))\n",
        "            padded_sample = np.pad(sample, padding_shape, mode='constant', constant_values=0)\n",
        "        else:\n",
        "            padded_sample = sample[:, :max_length]\n",
        "        padded_eeg_data.append(padded_sample)\n",
        "    eeg_data = np.array(padded_eeg_data)\n",
        "    scaler = StandardScaler()\n",
        "    eeg_data = eeg_data.reshape(eeg_data.shape[0], -1)\n",
        "    eeg_data = scaler.fit_transform(eeg_data)\n",
        "    eeg_data = eeg_data.reshape(-1, max_length, 14)\n",
        "    return eeg_data"
      ],
      "metadata": {
        "id": "mMTSAuw2GEOd"
      },
      "execution_count": null,
      "outputs": []
    },
    {
      "cell_type": "code",
      "source": [
        "# --- Veri artırma fonksiyonu ---\n",
        "def augment_eeg_data(eeg_data, labels):\n",
        "    augmented_data = []\n",
        "    augmented_labels = []\n",
        "    for sample, label in zip(eeg_data, labels):\n",
        "        augmented_data.append(sample)\n",
        "        augmented_labels.append(label)\n",
        "\n",
        "        # Gürültü ekleme\n",
        "        noise = np.random.normal(0, 0.05, sample.shape)\n",
        "        augmented_data.append(sample + noise)\n",
        "        augmented_labels.append(label)\n",
        "\n",
        "        # Zaman kaydırma\n",
        "        shift = np.roll(sample, shift=5, axis=1)\n",
        "        augmented_data.append(shift)\n",
        "        augmented_labels.append(label)\n",
        "\n",
        "    return np.array(augmented_data), np.array(augmented_labels)"
      ],
      "metadata": {
        "id": "tRwKxwxFzaDc"
      },
      "execution_count": null,
      "outputs": []
    },
    {
      "cell_type": "code",
      "source": [
        "# --- Veri yükleme ---\n",
        "file_path = \"/content/drive/MyDrive/Colab Notebooks/DREAMER.mat\"\n",
        "eeg_data, labels = load_dreamer_data(file_path)"
      ],
      "metadata": {
        "id": "VaWc2wrEGF-r"
      },
      "execution_count": null,
      "outputs": []
    },
    {
      "cell_type": "code",
      "source": [
        "# --- Ön işleme ---\n",
        "eeg_data = preprocess_eeg_data(eeg_data)\n",
        "labels = LabelEncoder().fit_transform(labels > 5)"
      ],
      "metadata": {
        "id": "tpw9Fb9KGJJQ"
      },
      "execution_count": null,
      "outputs": []
    },
    {
      "cell_type": "code",
      "source": [
        "# --- Sınıf dengesini sağlama ---\n",
        "ros = RandomOverSampler(random_state=42)\n",
        "eeg_data_flat = eeg_data.reshape(eeg_data.shape[0], -1)\n",
        "eeg_data_flat, labels = ros.fit_resample(eeg_data_flat, labels)\n",
        "eeg_data = eeg_data_flat.reshape(-1, 1000, 14)"
      ],
      "metadata": {
        "colab": {
          "base_uri": "https://localhost:8080/",
          "height": 356
        },
        "id": "L2thmk0GuOzg",
        "outputId": "fe4a2178-9f50-4d4a-cffc-d1e478cb785c"
      },
      "execution_count": null,
      "outputs": [
        {
          "output_type": "error",
          "ename": "ValueError",
          "evalue": "The target 'y' needs to have more than 1 class. Got 1 class instead",
          "traceback": [
            "\u001b[0;31m---------------------------------------------------------------------------\u001b[0m",
            "\u001b[0;31mValueError\u001b[0m                                Traceback (most recent call last)",
            "\u001b[0;32m<ipython-input-58-2d8f3136bcb6>\u001b[0m in \u001b[0;36m<cell line: 4>\u001b[0;34m()\u001b[0m\n\u001b[1;32m      2\u001b[0m \u001b[0mros\u001b[0m \u001b[0;34m=\u001b[0m \u001b[0mRandomOverSampler\u001b[0m\u001b[0;34m(\u001b[0m\u001b[0mrandom_state\u001b[0m\u001b[0;34m=\u001b[0m\u001b[0;36m42\u001b[0m\u001b[0;34m)\u001b[0m\u001b[0;34m\u001b[0m\u001b[0;34m\u001b[0m\u001b[0m\n\u001b[1;32m      3\u001b[0m \u001b[0meeg_data_flat\u001b[0m \u001b[0;34m=\u001b[0m \u001b[0meeg_data\u001b[0m\u001b[0;34m.\u001b[0m\u001b[0mreshape\u001b[0m\u001b[0;34m(\u001b[0m\u001b[0meeg_data\u001b[0m\u001b[0;34m.\u001b[0m\u001b[0mshape\u001b[0m\u001b[0;34m[\u001b[0m\u001b[0;36m0\u001b[0m\u001b[0;34m]\u001b[0m\u001b[0;34m,\u001b[0m \u001b[0;34m-\u001b[0m\u001b[0;36m1\u001b[0m\u001b[0;34m)\u001b[0m\u001b[0;34m\u001b[0m\u001b[0;34m\u001b[0m\u001b[0m\n\u001b[0;32m----> 4\u001b[0;31m \u001b[0meeg_data_flat\u001b[0m\u001b[0;34m,\u001b[0m \u001b[0mlabels\u001b[0m \u001b[0;34m=\u001b[0m \u001b[0mros\u001b[0m\u001b[0;34m.\u001b[0m\u001b[0mfit_resample\u001b[0m\u001b[0;34m(\u001b[0m\u001b[0meeg_data_flat\u001b[0m\u001b[0;34m,\u001b[0m \u001b[0mlabels\u001b[0m\u001b[0;34m)\u001b[0m\u001b[0;34m\u001b[0m\u001b[0;34m\u001b[0m\u001b[0m\n\u001b[0m\u001b[1;32m      5\u001b[0m \u001b[0meeg_data\u001b[0m \u001b[0;34m=\u001b[0m \u001b[0meeg_data_flat\u001b[0m\u001b[0;34m.\u001b[0m\u001b[0mreshape\u001b[0m\u001b[0;34m(\u001b[0m\u001b[0;34m-\u001b[0m\u001b[0;36m1\u001b[0m\u001b[0;34m,\u001b[0m \u001b[0;36m1000\u001b[0m\u001b[0;34m,\u001b[0m \u001b[0;36m14\u001b[0m\u001b[0;34m)\u001b[0m\u001b[0;34m\u001b[0m\u001b[0;34m\u001b[0m\u001b[0m\n",
            "\u001b[0;32m/usr/local/lib/python3.10/dist-packages/imblearn/base.py\u001b[0m in \u001b[0;36mfit_resample\u001b[0;34m(self, X, y)\u001b[0m\n\u001b[1;32m    206\u001b[0m         \"\"\"\n\u001b[1;32m    207\u001b[0m         \u001b[0mself\u001b[0m\u001b[0;34m.\u001b[0m\u001b[0m_validate_params\u001b[0m\u001b[0;34m(\u001b[0m\u001b[0;34m)\u001b[0m\u001b[0;34m\u001b[0m\u001b[0;34m\u001b[0m\u001b[0m\n\u001b[0;32m--> 208\u001b[0;31m         \u001b[0;32mreturn\u001b[0m \u001b[0msuper\u001b[0m\u001b[0;34m(\u001b[0m\u001b[0;34m)\u001b[0m\u001b[0;34m.\u001b[0m\u001b[0mfit_resample\u001b[0m\u001b[0;34m(\u001b[0m\u001b[0mX\u001b[0m\u001b[0;34m,\u001b[0m \u001b[0my\u001b[0m\u001b[0;34m)\u001b[0m\u001b[0;34m\u001b[0m\u001b[0;34m\u001b[0m\u001b[0m\n\u001b[0m\u001b[1;32m    209\u001b[0m \u001b[0;34m\u001b[0m\u001b[0m\n\u001b[1;32m    210\u001b[0m     \u001b[0;32mdef\u001b[0m \u001b[0m_more_tags\u001b[0m\u001b[0;34m(\u001b[0m\u001b[0mself\u001b[0m\u001b[0;34m)\u001b[0m\u001b[0;34m:\u001b[0m\u001b[0;34m\u001b[0m\u001b[0;34m\u001b[0m\u001b[0m\n",
            "\u001b[0;32m/usr/local/lib/python3.10/dist-packages/imblearn/base.py\u001b[0m in \u001b[0;36mfit_resample\u001b[0;34m(self, X, y)\u001b[0m\n\u001b[1;32m    106\u001b[0m         \u001b[0mX\u001b[0m\u001b[0;34m,\u001b[0m \u001b[0my\u001b[0m\u001b[0;34m,\u001b[0m \u001b[0mbinarize_y\u001b[0m \u001b[0;34m=\u001b[0m \u001b[0mself\u001b[0m\u001b[0;34m.\u001b[0m\u001b[0m_check_X_y\u001b[0m\u001b[0;34m(\u001b[0m\u001b[0mX\u001b[0m\u001b[0;34m,\u001b[0m \u001b[0my\u001b[0m\u001b[0;34m)\u001b[0m\u001b[0;34m\u001b[0m\u001b[0;34m\u001b[0m\u001b[0m\n\u001b[1;32m    107\u001b[0m \u001b[0;34m\u001b[0m\u001b[0m\n\u001b[0;32m--> 108\u001b[0;31m         self.sampling_strategy_ = check_sampling_strategy(\n\u001b[0m\u001b[1;32m    109\u001b[0m             \u001b[0mself\u001b[0m\u001b[0;34m.\u001b[0m\u001b[0msampling_strategy\u001b[0m\u001b[0;34m,\u001b[0m \u001b[0my\u001b[0m\u001b[0;34m,\u001b[0m \u001b[0mself\u001b[0m\u001b[0;34m.\u001b[0m\u001b[0m_sampling_type\u001b[0m\u001b[0;34m\u001b[0m\u001b[0;34m\u001b[0m\u001b[0m\n\u001b[1;32m    110\u001b[0m         )\n",
            "\u001b[0;32m/usr/local/lib/python3.10/dist-packages/imblearn/utils/_validation.py\u001b[0m in \u001b[0;36mcheck_sampling_strategy\u001b[0;34m(sampling_strategy, y, sampling_type, **kwargs)\u001b[0m\n\u001b[1;32m    535\u001b[0m \u001b[0;34m\u001b[0m\u001b[0m\n\u001b[1;32m    536\u001b[0m     \u001b[0;32mif\u001b[0m \u001b[0mnp\u001b[0m\u001b[0;34m.\u001b[0m\u001b[0munique\u001b[0m\u001b[0;34m(\u001b[0m\u001b[0my\u001b[0m\u001b[0;34m)\u001b[0m\u001b[0;34m.\u001b[0m\u001b[0msize\u001b[0m \u001b[0;34m<=\u001b[0m \u001b[0;36m1\u001b[0m\u001b[0;34m:\u001b[0m\u001b[0;34m\u001b[0m\u001b[0;34m\u001b[0m\u001b[0m\n\u001b[0;32m--> 537\u001b[0;31m         raise ValueError(\n\u001b[0m\u001b[1;32m    538\u001b[0m             \u001b[0;34mf\"The target 'y' needs to have more than 1 class. \"\u001b[0m\u001b[0;34m\u001b[0m\u001b[0;34m\u001b[0m\u001b[0m\n\u001b[1;32m    539\u001b[0m             \u001b[0;34mf\"Got {np.unique(y).size} class instead\"\u001b[0m\u001b[0;34m\u001b[0m\u001b[0;34m\u001b[0m\u001b[0m\n",
            "\u001b[0;31mValueError\u001b[0m: The target 'y' needs to have more than 1 class. Got 1 class instead"
          ]
        }
      ]
    },
    {
      "cell_type": "code",
      "source": [
        "# --- Veri artırma ---\n",
        "X_train, X_test, y_train, y_test = train_test_split(eeg_data, labels, test_size=0.3, random_state=42, stratify=labels)\n",
        "X_train, y_train = augment_eeg_data(X_train, y_train)"
      ],
      "metadata": {
        "id": "blF9wfHvGJtq"
      },
      "execution_count": null,
      "outputs": []
    },
    {
      "cell_type": "code",
      "source": [
        "# --- Model Tanımı ---\n",
        "model = Sequential([\n",
        "    Input(shape=(X_train.shape[1], X_train.shape[2])),\n",
        "    GaussianNoise(0.1),\n",
        "    LSTM(128, return_sequences=True, kernel_regularizer=l2(0.01)),  # Daha fazla birim\n",
        "    BatchNormalization(),\n",
        "    Dropout(0.5),\n",
        "    LSTM(64, return_sequences=False, kernel_regularizer=l2(0.01)),\n",
        "    BatchNormalization(),\n",
        "    Dropout(0.5),\n",
        "    Dense(32, activation='relu', kernel_regularizer=l2(0.01)),\n",
        "    Dropout(0.4),\n",
        "    Dense(1, activation='sigmoid')\n",
        "])"
      ],
      "metadata": {
        "id": "odbv86JNGMwE"
      },
      "execution_count": null,
      "outputs": []
    },
    {
      "cell_type": "code",
      "source": [
        "# --- Callbacks ---\n",
        "def scheduler(epoch, lr):\n",
        "    if epoch < 5:\n",
        "        return 1e-3\n",
        "    elif epoch < 15:\n",
        "        return 5e-4\n",
        "    else:\n",
        "        return lr * 0.8\n",
        "\n",
        "early_stopping = EarlyStopping(monitor='val_loss', patience=10, restore_best_weights=True, verbose=1)\n",
        "reduce_lr = ReduceLROnPlateau(monitor='val_loss', factor=0.5, patience=5, min_lr=1e-6, verbose=1)\n",
        "lr_scheduler = LearningRateScheduler(scheduler)"
      ],
      "metadata": {
        "id": "SazwihmSGQ_U"
      },
      "execution_count": null,
      "outputs": []
    },
    {
      "cell_type": "code",
      "source": [
        "# --- Modeli Derleme ---\n",
        "model.compile(optimizer=tf.keras.optimizers.Adam(learning_rate=1e-3),\n",
        "              loss='binary_crossentropy',\n",
        "              metrics=['accuracy'])"
      ],
      "metadata": {
        "id": "MhYmrdeEGPOO"
      },
      "execution_count": null,
      "outputs": []
    },
    {
      "cell_type": "code",
      "source": [
        "# --- Modeli Eğitme ---\n",
        "history = model.fit(\n",
        "    X_train, y_train,\n",
        "    validation_data=(X_test, y_test),\n",
        "    epochs=50,\n",
        "    batch_size=32,\n",
        "    callbacks=[early_stopping, reduce_lr, lr_scheduler],\n",
        "    verbose=1\n",
        ")"
      ],
      "metadata": {
        "id": "fslpLMWPGS2Z"
      },
      "execution_count": null,
      "outputs": []
    },
    {
      "cell_type": "code",
      "source": [
        "# --- Eğitim Sonuçlarını Çizdirme ---\n",
        "plt.figure(figsize=(14, 5))\n",
        "plt.subplot(1, 2, 1)\n",
        "plt.plot(history.history['loss'], label='Eğitim Kaybı')\n",
        "plt.plot(history.history['val_loss'], label='Doğrulama Kaybı')\n",
        "plt.xlabel('Epoch')\n",
        "plt.ylabel('Kayıp')\n",
        "plt.legend()\n",
        "plt.title(\"Eğitim ve Doğrulama Kaybı\")\n",
        "\n",
        "plt.subplot(1, 2, 2)\n",
        "plt.plot(history.history['accuracy'], label='Eğitim Doğruluğu')\n",
        "plt.plot(history.history['val_accuracy'], label='Doğrulama Doğruluğu')\n",
        "plt.xlabel('Epoch')\n",
        "plt.ylabel('Doğruluk')\n",
        "plt.legend()\n",
        "plt.title(\"Eğitim ve Doğrulama Doğruluğu\")\n",
        "\n",
        "plt.tight_layout()\n",
        "plt.show()\n",
        "\n",
        "# --- Test Değerlendirmesi ---\n",
        "test_loss, test_accuracy = model.evaluate(X_test, y_test)\n",
        "print(f\"Test Kayıp: {test_loss:.4f}\")\n",
        "print(f\"Test Doğruluk: {test_accuracy:.4f}\")"
      ],
      "metadata": {
        "id": "plCaJBMnGUKI"
      },
      "execution_count": null,
      "outputs": []
    }
  ]
}