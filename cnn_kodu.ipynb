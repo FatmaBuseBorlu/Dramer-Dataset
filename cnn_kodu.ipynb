{
  "nbformat": 4,
  "nbformat_minor": 0,
  "metadata": {
    "colab": {
      "provenance": [],
      "gpuType": "T4",
      "name": "cnn-kodu.ipynb",
      "mount_file_id": "1BzOlQrT36q2sPsGIxXcQvMBPgCuM0eUc",
      "authorship_tag": "ABX9TyMkbIawTaxeCULDK7Gbqj2U",
      "include_colab_link": true
    },
    "kernelspec": {
      "name": "python3",
      "display_name": "Python 3"
    },
    "language_info": {
      "name": "python"
    },
    "accelerator": "GPU"
  },
  "cells": [
    {
      "cell_type": "markdown",
      "metadata": {
        "id": "view-in-github",
        "colab_type": "text"
      },
      "source": [
        "<a href=\"https://colab.research.google.com/github/FatmaBuseBorlu/Dramer-Dataset/blob/main/cnn_kodu.ipynb\" target=\"_parent\"><img src=\"https://colab.research.google.com/assets/colab-badge.svg\" alt=\"Open In Colab\"/></a>"
      ]
    },
    {
      "cell_type": "code",
      "execution_count": null,
      "metadata": {
        "id": "uzUS9BlKGkNV"
      },
      "outputs": [],
      "source": [
        "from IPython import get_ipython\n",
        "from IPython.display import display\n",
        "import kagglehub\n",
        "import shutil\n",
        "import matplotlib.pyplot as plt\n",
        "import numpy as np\n",
        "import scipy\n",
        "from sklearn.metrics import accuracy_score, confusion_matrix, classification_report\n",
        "from scipy.signal import butter, lfilter\n",
        "\n",
        "try:\n",
        "    import torch\n",
        "    import torch.nn as nn\n",
        "    import torch.optim as optim\n",
        "    from torch.utils.data import DataLoader, random_split\n",
        "    from torcheeg.datasets import DREAMERDataset\n",
        "    from torcheeg import transforms\n",
        "except ModuleNotFoundError as e:\n",
        "    raise ModuleNotFoundError(\n",
        "        \"PyTorch veya torcheeg kütüphanesi bulunamadı. Lütfen ortamınıza yükleyin veya alternatif bir yöntem kullanın.\"\n",
        "    )"
      ]
    },
    {
      "cell_type": "code",
      "source": [
        "# Kaggle'dan veri setini indirin\n",
        "path = kagglehub.dataset_download(\"phhasian0710/dreamer\")\n",
        "print(\"Path to dataset files:\", path)"
      ],
      "metadata": {
        "colab": {
          "base_uri": "https://localhost:8080/"
        },
        "id": "5MDu2zf6Grqm",
        "outputId": "9b0fae95-ea00-4a53-a315-65bb8913c2db"
      },
      "execution_count": null,
      "outputs": [
        {
          "output_type": "stream",
          "name": "stdout",
          "text": [
            "Path to dataset files: /root/.cache/kagglehub/datasets/phhasian0710/dreamer/versions/1\n"
          ]
        }
      ]
    },
    {
      "cell_type": "code",
      "source": [
        "# Veri setini yükleyin ve ön işleme adımlarını uygulayın\n",
        "dataset = DREAMERDataset(\n",
        "    io_path='./dreamer_cnn_data',\n",
        "    mat_path=f'{path}/DREAMER.mat',  # Kaggle'dan indirilen dosyanın yolu\n",
        "    offline_transform=transforms.Compose([\n",
        "        transforms.BaselineRemoval(),\n",
        "        transforms.MeanStdNormalize(),\n",
        "        transforms.To2d()\n",
        "    ]),\n",
        "    online_transform=transforms.ToTensor(),\n",
        "    label_transform=transforms.Compose([\n",
        "        transforms.Select('valence'),\n",
        "        transforms.Binary(3.0)\n",
        "    ]),\n",
        "    chunk_size=128,\n",
        "    baseline_chunk_size=128,\n",
        "    num_baseline=61,\n",
        "    num_worker=4\n",
        ")"
      ],
      "metadata": {
        "colab": {
          "base_uri": "https://localhost:8080/"
        },
        "id": "Q8kr_9ZKHCim",
        "outputId": "b7f7b77d-62f3-46b4-842d-bfa51c270def"
      },
      "execution_count": null,
      "outputs": [
        {
          "output_type": "stream",
          "name": "stderr",
          "text": [
            "[2024-12-18 16:19:45] INFO (torcheeg/MainThread) 🔍 | Detected cached processing results, reading cache from ./dreamer_cnn_data.\n",
            "INFO:torcheeg:🔍 | Detected cached processing results, reading cache from ./dreamer_cnn_data.\n"
          ]
        }
      ]
    },
    {
      "cell_type": "code",
      "source": [
        "# Veri setini eğitim ve test olarak ayırın\n",
        "data_size = len(dataset)\n",
        "train_size = int(0.8 * data_size)\n",
        "test_size = data_size - train_size\n",
        "train_dataset, test_dataset = random_split(dataset, [train_size, test_size])"
      ],
      "metadata": {
        "id": "ZM8j3ZghHD_N"
      },
      "execution_count": null,
      "outputs": []
    },
    {
      "cell_type": "code",
      "source": [
        "# Veri yükleyicileri tanımlayın\n",
        "train_loader = DataLoader(train_dataset, batch_size=32, shuffle=True)\n",
        "test_loader = DataLoader(test_dataset, batch_size=32, shuffle=False)"
      ],
      "metadata": {
        "id": "NzrJiC5YHFyO"
      },
      "execution_count": null,
      "outputs": []
    },
    {
      "cell_type": "code",
      "source": [
        "# İyileştirilmiş EEG tabanlı CNN modeli\n",
        "class EEGCNN(nn.Module):\n",
        "    def __init__(self):\n",
        "        super(EEGCNN, self).__init__()\n",
        "        # Veri boyutu: (batch, 1, kanal=14, zaman=128)\n",
        "        self.conv1 = nn.Conv2d(1, 32, kernel_size=3, padding=1)\n",
        "        self.conv2 = nn.Conv2d(32, 64, kernel_size=3, padding=1)\n",
        "        self.conv3 = nn.Conv2d(64, 128, kernel_size=3, padding=1)  # Ekstra konvolüyon katmanı\n",
        "        self.relu = nn.ReLU()\n",
        "        self.pool = nn.MaxPool2d(2)\n",
        "        self.batch_norm1 = nn.BatchNorm2d(32)  # Batch normalization ekledik\n",
        "        self.batch_norm2 = nn.BatchNorm2d(64)\n",
        "        self.dropout = nn.Dropout(0.5)\n",
        "        self.fc1 = nn.Linear(2048, 256)  # Sabit boyutlu fc1\n",
        "        self.fc2 = nn.Linear(256, 2)\n",
        "\n",
        "    def forward(self, x):\n",
        "        x = self.relu(self.batch_norm1(self.conv1(x)))\n",
        "        x = self.pool(x)\n",
        "        x = self.relu(self.batch_norm2(self.conv2(x)))\n",
        "        x = self.pool(x)\n",
        "        x = self.relu(self.conv3(x))\n",
        "        x = self.pool(x)\n",
        "        x = x.view(x.size(0), -1)\n",
        "        x = self.relu(self.fc1(x))\n",
        "        x = self.dropout(x)\n",
        "        x = self.fc2(x)\n",
        "        return x"
      ],
      "metadata": {
        "id": "qyyUAcNrHH0m"
      },
      "execution_count": null,
      "outputs": []
    },
    {
      "cell_type": "code",
      "source": [
        "# Modeli, kaybı ve optimizasyonu tanımlayın\n",
        "device = torch.device(\"cuda\" if torch.cuda.is_available() else \"cpu\")\n",
        "model = EEGCNN().to(device)\n",
        "\n",
        "criterion = nn.CrossEntropyLoss()\n",
        "optimizer = optim.Adam(model.parameters(), lr=0.0003, weight_decay=1e-5)\n",
        "scheduler = torch.optim.lr_scheduler.CosineAnnealingLR(optimizer, T_max=10)  # CosineAnnealingLR ekleniyor\n",
        "\n",
        "train_losses = []\n",
        "test_losses = []\n",
        "test_accuracies = []\n",
        "\n",
        "def train_one_epoch():\n",
        "    model.train()\n",
        "    running_loss = 0.0\n",
        "    for batch_idx, (inputs, labels) in enumerate(train_loader):\n",
        "        inputs = inputs.float().to(device)\n",
        "        labels = labels.long().to(device)\n",
        "        if inputs.dim() == 3:\n",
        "            inputs = inputs.unsqueeze(1)\n",
        "        optimizer.zero_grad()\n",
        "        outputs = model(inputs)\n",
        "        loss = criterion(outputs, labels)\n",
        "        loss.backward()\n",
        "        optimizer.step()\n",
        "        running_loss += loss.item()\n",
        "\n",
        "        # Yalnızca belli batch'lerde detaylı çıktı\n",
        "        if batch_idx % 100 == 0:  # Her 100 batch'te bir yazdır\n",
        "            print(f\"Batch {batch_idx}, Loss: {loss.item():.4f}\")\n",
        "    return running_loss / len(train_loader)\n",
        "\n",
        "def test_model():\n",
        "    model.eval()\n",
        "    running_loss = 0.0\n",
        "    all_preds = []\n",
        "    all_labels = []\n",
        "    with torch.no_grad():\n",
        "        for inputs, labels in test_loader:\n",
        "            inputs = inputs.float().to(device)\n",
        "            labels = labels.long().to(device)\n",
        "            if inputs.dim() == 3:\n",
        "                inputs = inputs.unsqueeze(1)\n",
        "            outputs = model(inputs)\n",
        "            loss = criterion(outputs, labels)\n",
        "            running_loss += loss.item()\n",
        "            _, preds = torch.max(outputs, 1)\n",
        "            all_preds.extend(preds.cpu().numpy())\n",
        "            all_labels.extend(labels.cpu().numpy())\n",
        "    avg_loss = running_loss / len(test_loader)\n",
        "    accuracy = accuracy_score(all_labels, all_preds)\n",
        "    return avg_loss, accuracy, all_labels, all_preds"
      ],
      "metadata": {
        "id": "8TpmLRkKHKOK"
      },
      "execution_count": null,
      "outputs": []
    },
    {
      "cell_type": "code",
      "source": [
        "class_weights = torch.tensor([2.0, 1.0]).to(device)\n",
        "criterion = nn.CrossEntropyLoss(weight=class_weights)"
      ],
      "metadata": {
        "id": "ogIjH0B2ugLu"
      },
      "execution_count": null,
      "outputs": []
    },
    {
      "cell_type": "code",
      "source": [
        "# Early Stopping Parametreleri\n",
        "patience = 3  # İyileşme durduktan sonra kaç epoch daha devam edeceğini belirtir\n",
        "best_loss = float('inf')  # İlk en iyi loss değeri\n",
        "counter = 0  # Epoch sayacı\n",
        "\n",
        "# Eğitim döngüsü\n",
        "epochs = 10\n",
        "for epoch in range(epochs):\n",
        "    train_loss = train_one_epoch()\n",
        "    test_loss, test_acc, _, _ = test_model()\n",
        "    scheduler.step()  # Scheduler'i her epoch sonunda ekleyin\n",
        "\n",
        "    train_losses.append(train_loss)\n",
        "    test_losses.append(test_loss)\n",
        "    test_accuracies.append(test_acc)\n",
        "\n",
        "    print(f\"Epoch [{epoch+1}/{epochs}] - Train Loss: {train_loss:.4f}, Test Loss: {test_loss:.4f}, Test Acc: {test_acc:.4f}\")\n",
        "\n",
        "    # Early Stopping Kontrolü\n",
        "    if test_loss < best_loss:\n",
        "        best_loss = test_loss\n",
        "        counter = 0  # Sayaç sıfırlanır\n",
        "        print(\"Yeni en iyi model kaydedildi.\")\n",
        "    else:\n",
        "        counter += 1\n",
        "        print(f\"Val Loss iyileşmedi. Sabit kalan epoch sayısı: {counter}\")\n",
        "\n",
        "    if counter >= patience:\n",
        "        print(\"Early stopping tetiklendi!\")\n",
        "        break\n"
      ],
      "metadata": {
        "colab": {
          "base_uri": "https://localhost:8080/"
        },
        "id": "5o57bvglHOhb",
        "outputId": "b85ee484-dd7e-4e80-d396-a6704183c0d7"
      },
      "execution_count": null,
      "outputs": [
        {
          "output_type": "stream",
          "name": "stdout",
          "text": [
            "Batch 0, Loss: 0.7011\n",
            "Batch 100, Loss: 0.7055\n",
            "Batch 200, Loss: 0.6731\n",
            "Batch 300, Loss: 0.6625\n",
            "Batch 400, Loss: 0.6498\n",
            "Batch 500, Loss: 0.6943\n",
            "Batch 600, Loss: 0.6434\n",
            "Batch 700, Loss: 0.6672\n",
            "Batch 800, Loss: 0.5946\n",
            "Batch 900, Loss: 0.7367\n",
            "Batch 1000, Loss: 0.6166\n",
            "Batch 1100, Loss: 0.6431\n",
            "Batch 1200, Loss: 0.6858\n",
            "Batch 1300, Loss: 0.5694\n",
            "Batch 1400, Loss: 0.6554\n",
            "Batch 1500, Loss: 0.6741\n",
            "Batch 1600, Loss: 0.5809\n",
            "Batch 1700, Loss: 0.5631\n",
            "Batch 1800, Loss: 0.5982\n",
            "Batch 1900, Loss: 0.5636\n",
            "Batch 2000, Loss: 0.5595\n",
            "Batch 2100, Loss: 0.6978\n",
            "Epoch [1/10] - Train Loss: 0.6355, Test Loss: 0.5967, Test Acc: 0.6484\n",
            "Yeni en iyi model kaydedildi.\n",
            "Batch 0, Loss: 0.5356\n",
            "Batch 100, Loss: 0.7021\n",
            "Batch 200, Loss: 0.6641\n",
            "Batch 300, Loss: 0.5077\n",
            "Batch 400, Loss: 0.4765\n",
            "Batch 500, Loss: 0.6877\n",
            "Batch 600, Loss: 0.5055\n",
            "Batch 700, Loss: 0.5748\n",
            "Batch 800, Loss: 0.8185\n",
            "Batch 900, Loss: 0.5207\n",
            "Batch 1000, Loss: 0.5828\n",
            "Batch 1100, Loss: 0.4910\n",
            "Batch 1200, Loss: 0.7214\n",
            "Batch 1300, Loss: 0.6401\n",
            "Batch 1400, Loss: 0.6408\n",
            "Batch 1500, Loss: 0.5760\n",
            "Batch 1600, Loss: 0.5235\n",
            "Batch 1700, Loss: 0.5699\n",
            "Batch 1800, Loss: 0.3904\n",
            "Batch 1900, Loss: 0.5975\n",
            "Batch 2000, Loss: 0.5472\n",
            "Batch 2100, Loss: 0.6861\n",
            "Epoch [2/10] - Train Loss: 0.5662, Test Loss: 0.5348, Test Acc: 0.6823\n",
            "Yeni en iyi model kaydedildi.\n",
            "Batch 0, Loss: 0.4338\n",
            "Batch 100, Loss: 0.5039\n",
            "Batch 200, Loss: 0.4110\n",
            "Batch 300, Loss: 0.4691\n",
            "Batch 400, Loss: 0.6622\n",
            "Batch 500, Loss: 0.5489\n",
            "Batch 600, Loss: 0.4696\n",
            "Batch 700, Loss: 0.4160\n",
            "Batch 800, Loss: 0.5678\n",
            "Batch 900, Loss: 0.5642\n",
            "Batch 1000, Loss: 0.4864\n",
            "Batch 1100, Loss: 0.6199\n",
            "Batch 1200, Loss: 0.4978\n",
            "Batch 1300, Loss: 0.4755\n",
            "Batch 1400, Loss: 0.5712\n",
            "Batch 1500, Loss: 0.5388\n",
            "Batch 1600, Loss: 0.4871\n",
            "Batch 1700, Loss: 0.3545\n",
            "Batch 1800, Loss: 0.5164\n",
            "Batch 1900, Loss: 0.4386\n",
            "Batch 2000, Loss: 0.4738\n",
            "Batch 2100, Loss: 0.5638\n",
            "Epoch [3/10] - Train Loss: 0.5195, Test Loss: 0.5036, Test Acc: 0.7230\n",
            "Yeni en iyi model kaydedildi.\n",
            "Batch 0, Loss: 0.4289\n",
            "Batch 100, Loss: 0.5389\n",
            "Batch 200, Loss: 0.6071\n",
            "Batch 300, Loss: 0.5408\n",
            "Batch 400, Loss: 0.5636\n",
            "Batch 500, Loss: 0.5035\n",
            "Batch 600, Loss: 0.6886\n",
            "Batch 700, Loss: 0.4726\n",
            "Batch 800, Loss: 0.3959\n",
            "Batch 900, Loss: 0.6154\n",
            "Batch 1000, Loss: 0.3874\n",
            "Batch 1100, Loss: 0.3949\n",
            "Batch 1200, Loss: 0.6538\n",
            "Batch 1300, Loss: 0.5242\n",
            "Batch 1400, Loss: 0.6767\n",
            "Batch 1500, Loss: 0.5331\n",
            "Batch 1600, Loss: 0.6136\n",
            "Batch 1700, Loss: 0.5348\n",
            "Batch 1800, Loss: 0.4734\n",
            "Batch 1900, Loss: 0.4814\n",
            "Batch 2000, Loss: 0.3958\n",
            "Batch 2100, Loss: 0.4699\n",
            "Epoch [4/10] - Train Loss: 0.4826, Test Loss: 0.4832, Test Acc: 0.7334\n",
            "Yeni en iyi model kaydedildi.\n",
            "Batch 0, Loss: 0.4834\n",
            "Batch 100, Loss: 0.3591\n",
            "Batch 200, Loss: 0.4726\n",
            "Batch 300, Loss: 0.5044\n",
            "Batch 400, Loss: 0.5099\n",
            "Batch 500, Loss: 0.4046\n",
            "Batch 600, Loss: 0.3251\n",
            "Batch 700, Loss: 0.3356\n",
            "Batch 800, Loss: 0.4262\n",
            "Batch 900, Loss: 0.5375\n",
            "Batch 1000, Loss: 0.4584\n",
            "Batch 1100, Loss: 0.4119\n",
            "Batch 1200, Loss: 0.4351\n",
            "Batch 1300, Loss: 0.6628\n",
            "Batch 1400, Loss: 0.4385\n",
            "Batch 1500, Loss: 0.5151\n",
            "Batch 1600, Loss: 0.5583\n",
            "Batch 1700, Loss: 0.3960\n",
            "Batch 1800, Loss: 0.3428\n",
            "Batch 1900, Loss: 0.5529\n",
            "Batch 2000, Loss: 0.4562\n",
            "Batch 2100, Loss: 0.5323\n",
            "Epoch [5/10] - Train Loss: 0.4521, Test Loss: 0.4710, Test Acc: 0.7498\n",
            "Yeni en iyi model kaydedildi.\n",
            "Batch 0, Loss: 0.4614\n",
            "Batch 100, Loss: 0.6019\n",
            "Batch 200, Loss: 0.3076\n",
            "Batch 300, Loss: 0.3241\n",
            "Batch 400, Loss: 0.2492\n",
            "Batch 500, Loss: 0.4542\n",
            "Batch 600, Loss: 0.4404\n",
            "Batch 700, Loss: 0.3948\n",
            "Batch 800, Loss: 0.3412\n",
            "Batch 900, Loss: 0.6200\n",
            "Batch 1000, Loss: 0.2865\n",
            "Batch 1100, Loss: 0.4127\n",
            "Batch 1200, Loss: 0.4430\n",
            "Batch 1300, Loss: 0.3947\n",
            "Batch 1400, Loss: 0.6517\n",
            "Batch 1500, Loss: 0.3394\n",
            "Batch 1600, Loss: 0.3645\n",
            "Batch 1700, Loss: 0.3996\n",
            "Batch 1800, Loss: 0.4586\n",
            "Batch 1900, Loss: 0.5708\n",
            "Batch 2000, Loss: 0.3861\n",
            "Batch 2100, Loss: 0.2973\n",
            "Epoch [6/10] - Train Loss: 0.4216, Test Loss: 0.4570, Test Acc: 0.7586\n",
            "Yeni en iyi model kaydedildi.\n",
            "Batch 0, Loss: 0.3274\n",
            "Batch 100, Loss: 0.4336\n",
            "Batch 200, Loss: 0.4351\n",
            "Batch 300, Loss: 0.5481\n",
            "Batch 400, Loss: 0.2912\n",
            "Batch 500, Loss: 0.4356\n",
            "Batch 600, Loss: 0.3201\n",
            "Batch 700, Loss: 0.4200\n",
            "Batch 800, Loss: 0.4432\n",
            "Batch 900, Loss: 0.4351\n",
            "Batch 1000, Loss: 0.4615\n",
            "Batch 1100, Loss: 0.3267\n",
            "Batch 1200, Loss: 0.2272\n",
            "Batch 1300, Loss: 0.4525\n",
            "Batch 1400, Loss: 0.3433\n",
            "Batch 1500, Loss: 0.3959\n",
            "Batch 1600, Loss: 0.2818\n",
            "Batch 1700, Loss: 0.4041\n",
            "Batch 1800, Loss: 0.3701\n",
            "Batch 1900, Loss: 0.4857\n",
            "Batch 2000, Loss: 0.2999\n",
            "Batch 2100, Loss: 0.2895\n",
            "Epoch [7/10] - Train Loss: 0.3951, Test Loss: 0.4437, Test Acc: 0.7609\n",
            "Yeni en iyi model kaydedildi.\n",
            "Batch 0, Loss: 0.3297\n",
            "Batch 100, Loss: 0.5219\n",
            "Batch 200, Loss: 0.5208\n",
            "Batch 300, Loss: 0.3376\n",
            "Batch 400, Loss: 0.1749\n",
            "Batch 500, Loss: 0.3813\n",
            "Batch 600, Loss: 0.2844\n",
            "Batch 700, Loss: 0.2707\n",
            "Batch 800, Loss: 0.3646\n",
            "Batch 900, Loss: 0.3374\n",
            "Batch 1000, Loss: 0.3479\n",
            "Batch 1100, Loss: 0.5305\n",
            "Batch 1200, Loss: 0.3215\n",
            "Batch 1300, Loss: 0.4341\n",
            "Batch 1400, Loss: 0.4349\n",
            "Batch 1500, Loss: 0.3613\n",
            "Batch 1600, Loss: 0.4596\n",
            "Batch 1700, Loss: 0.3187\n",
            "Batch 1800, Loss: 0.4905\n",
            "Batch 1900, Loss: 0.3665\n",
            "Batch 2000, Loss: 0.4734\n",
            "Batch 2100, Loss: 0.3275\n",
            "Epoch [8/10] - Train Loss: 0.3693, Test Loss: 0.4412, Test Acc: 0.7798\n",
            "Yeni en iyi model kaydedildi.\n",
            "Batch 0, Loss: 0.2731\n",
            "Batch 100, Loss: 0.4153\n",
            "Batch 200, Loss: 0.3864\n",
            "Batch 300, Loss: 0.3808\n",
            "Batch 400, Loss: 0.4933\n",
            "Batch 500, Loss: 0.4392\n",
            "Batch 600, Loss: 0.3570\n",
            "Batch 700, Loss: 0.4250\n",
            "Batch 800, Loss: 0.5232\n",
            "Batch 900, Loss: 0.3787\n",
            "Batch 1000, Loss: 0.3641\n",
            "Batch 1100, Loss: 0.3066\n",
            "Batch 1200, Loss: 0.3848\n",
            "Batch 1300, Loss: 0.2659\n",
            "Batch 1400, Loss: 0.2655\n",
            "Batch 1500, Loss: 0.5901\n",
            "Batch 1600, Loss: 0.6398\n",
            "Batch 1700, Loss: 0.3020\n",
            "Batch 1800, Loss: 0.4464\n",
            "Batch 1900, Loss: 0.3782\n",
            "Batch 2000, Loss: 0.3422\n",
            "Batch 2100, Loss: 0.3592\n",
            "Epoch [9/10] - Train Loss: 0.3513, Test Loss: 0.4402, Test Acc: 0.7872\n",
            "Yeni en iyi model kaydedildi.\n",
            "Batch 0, Loss: 0.2834\n",
            "Batch 100, Loss: 0.3621\n",
            "Batch 200, Loss: 0.4046\n",
            "Batch 300, Loss: 0.4766\n",
            "Batch 400, Loss: 0.3798\n",
            "Batch 500, Loss: 0.5090\n",
            "Batch 600, Loss: 0.2712\n",
            "Batch 700, Loss: 0.4956\n",
            "Batch 800, Loss: 0.3041\n",
            "Batch 900, Loss: 0.4593\n",
            "Batch 1000, Loss: 0.3354\n",
            "Batch 1100, Loss: 0.3280\n",
            "Batch 1200, Loss: 0.4219\n",
            "Batch 1300, Loss: 0.5587\n",
            "Batch 1400, Loss: 0.5060\n",
            "Batch 1500, Loss: 0.2365\n",
            "Batch 1600, Loss: 0.5496\n",
            "Batch 1700, Loss: 0.3279\n",
            "Batch 1800, Loss: 0.3098\n",
            "Batch 1900, Loss: 0.2482\n",
            "Batch 2000, Loss: 0.2894\n",
            "Batch 2100, Loss: 0.3978\n",
            "Epoch [10/10] - Train Loss: 0.3385, Test Loss: 0.4367, Test Acc: 0.7830\n",
            "Yeni en iyi model kaydedildi.\n"
          ]
        }
      ]
    },
    {
      "cell_type": "code",
      "source": [
        "# Sonuçları tekrar test edip raporla\n",
        "test_loss, test_acc, all_labels, all_preds = test_model()\n",
        "print(f\"Final Test Accuracy: {test_acc:.4f}\")\n",
        "cm = confusion_matrix(all_labels, all_preds)\n",
        "print(\"Confusion Matrix:\\n\", cm)\n",
        "print(\"Classification Report:\\n\", classification_report(all_labels, all_preds))\n",
        "\n",
        "def plot_results(labels, preds, train_losses, test_losses):\n",
        "    # Basitleştirilmiş grafik fonksiyonu\n",
        "    plt.figure(figsize=(12, 4))\n",
        "    plt.plot(train_losses, label='Eğitim Kaybı')\n",
        "    plt.plot(test_losses, label='Test Kaybı')\n",
        "    plt.title('Eğitim ve Test Kaybı')\n",
        "    plt.xlabel('Epoch')\n",
        "    plt.ylabel('Kayıp')\n",
        "    plt.legend()\n",
        "    plt.show()\n",
        "\n",
        "    plt.figure(figsize=(6, 6))\n",
        "    cm = confusion_matrix(labels, preds)\n",
        "    plt.imshow(cm, cmap='Blues', interpolation='nearest')\n",
        "    plt.title('Confusion Matrix')\n",
        "    plt.colorbar()\n",
        "    plt.xticks([0, 1], ['Class 0', 'Class 1'])\n",
        "    plt.yticks([0, 1], ['Class 0', 'Class 1'])\n",
        "    plt.xlabel('Predicted')\n",
        "    plt.ylabel('True')\n",
        "    plt.show()\n",
        "\n",
        "plot_results(all_labels, all_preds, train_losses, test_losses)"
      ],
      "metadata": {
        "id": "cxr0zaFrHPbg",
        "colab": {
          "base_uri": "https://localhost:8080/",
          "height": 1000
        },
        "outputId": "7d95e130-cea4-4b0a-d8b5-6b93211c35d4"
      },
      "execution_count": null,
      "outputs": [
        {
          "output_type": "stream",
          "name": "stdout",
          "text": [
            "Final Test Accuracy: 0.7830\n",
            "Confusion Matrix:\n",
            " [[5453 1331]\n",
            " [2391 7974]]\n",
            "Classification Report:\n",
            "               precision    recall  f1-score   support\n",
            "\n",
            "           0       0.70      0.80      0.75      6784\n",
            "           1       0.86      0.77      0.81     10365\n",
            "\n",
            "    accuracy                           0.78     17149\n",
            "   macro avg       0.78      0.79      0.78     17149\n",
            "weighted avg       0.79      0.78      0.78     17149\n",
            "\n"
          ]
        },
        {
          "output_type": "display_data",
          "data": {
            "text/plain": [
              "<Figure size 1200x400 with 1 Axes>"
            ],
            "image/png": "[encoded data removed]"
          },
          "metadata": {}
        },
        {
          "output_type": "display_data",
          "data": {
            "text/plain": [
              "<Figure size 600x600 with 2 Axes>"
            ],
            "image/png": "[encoded data removed]"
          },
          "metadata": {}
        }
      ]
    },
    {
      "cell_type": "code",
      "source": [
        "print(f\"Toplam veri sayısı: {len(train_loader.dataset)}\")\n",
        "print(f\"Toplam batch sayısı (train): {len(train_loader)}\")"
      ],
      "metadata": {
        "id": "p6PpwNUxSsH-",
        "colab": {
          "base_uri": "https://localhost:8080/"
        },
        "outputId": "24a106fa-35c0-4eff-e262-bd47a9457a69"
      },
      "execution_count": null,
      "outputs": [
        {
          "output_type": "stream",
          "name": "stdout",
          "text": [
            "Toplam veri sayısı: 68595\n",
            "Toplam batch sayısı (train): 2144\n"
          ]
        }
      ]
    }
  ]
}